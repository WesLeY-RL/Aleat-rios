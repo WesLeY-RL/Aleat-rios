{
 "cells": [
  {
   "cell_type": "code",
   "execution_count": 33,
   "id": "ed6e3a50-1057-41de-ae2a-7c273bfa5b6c",
   "metadata": {},
   "outputs": [],
   "source": [
    "import pandas as pd\n",
    "import numpy as np"
   ]
  },
  {
   "cell_type": "code",
   "execution_count": 34,
   "id": "13a1b529-5a96-4e4c-9979-a53ccfe88029",
   "metadata": {},
   "outputs": [],
   "source": [
    "numeros = [155, 62, 95, 13, 5]"
   ]
  },
  {
   "cell_type": "code",
   "execution_count": 35,
   "id": "b3899163-b0a9-42c2-b4f3-c3f7e285d7f8",
   "metadata": {},
   "outputs": [
    {
     "name": "stdout",
     "output_type": "stream",
     "text": [
      "0    155\n",
      "1     62\n",
      "2     95\n",
      "3     13\n",
      "4      5\n",
      "dtype: int64\n"
     ]
    }
   ],
   "source": [
    "serie_numero = pd.Series(numeros)\n",
    "print(serie_numero)"
   ]
  },
  {
   "cell_type": "code",
   "execution_count": 36,
   "id": "bf205a1f-24ac-40b7-9b5b-d0f90d1e2f31",
   "metadata": {},
   "outputs": [
    {
     "name": "stdout",
     "output_type": "stream",
     "text": [
      "155\n"
     ]
    }
   ],
   "source": [
    "print(serie_numero[0])\n"
   ]
  },
  {
   "cell_type": "code",
   "execution_count": 37,
   "id": "8eca7fa2-abb7-477e-855d-e71a8d2ab9d6",
   "metadata": {},
   "outputs": [
    {
     "name": "stdout",
     "output_type": "stream",
     "text": [
      "66.0\n"
     ]
    }
   ],
   "source": [
    "media = np.mean(serie_numero)\n",
    "print(media)"
   ]
  },
  {
   "cell_type": "code",
   "execution_count": 38,
   "id": "6b1429b3-935f-499c-be71-6fc488062740",
   "metadata": {},
   "outputs": [
    {
     "name": "stdout",
     "output_type": "stream",
     "text": [
      "55\n"
     ]
    }
   ],
   "source": [
    "serie_numero[0] = serie_numero[0] - 100\n",
    "print(serie_numero[0])"
   ]
  },
  {
   "cell_type": "code",
   "execution_count": 39,
   "id": "814d063d-9e19-4e4f-a4c6-5652f873c0d8",
   "metadata": {},
   "outputs": [
    {
     "name": "stdout",
     "output_type": "stream",
     "text": [
      "Wesley       10.0\n",
      "Roberta       9.0\n",
      "Valquiria     7.5\n",
      "dtype: float64\n"
     ]
    }
   ],
   "source": [
    "notas = {\"Wesley\": 10, \"Roberta\": 9, \"Valquiria\": 7.5}\n",
    "serie_notas = pd.Series(notas)\n",
    "print(serie_notas)"
   ]
  },
  {
   "cell_type": "code",
   "execution_count": 40,
   "id": "d0678d7e-f381-4d51-a23a-abf8ad9751ae",
   "metadata": {},
   "outputs": [
    {
     "name": "stdout",
     "output_type": "stream",
     "text": [
      "10.0\n"
     ]
    }
   ],
   "source": [
    "print(serie_notas[\"Wesley\"])"
   ]
  },
  {
   "cell_type": "code",
   "execution_count": 41,
   "id": "76caa423-dc50-4f4f-9356-1946fb6ee506",
   "metadata": {},
   "outputs": [
    {
     "data": {
      "text/html": [
       "<div>\n",
       "<style scoped>\n",
       "    .dataframe tbody tr th:only-of-type {\n",
       "        vertical-align: middle;\n",
       "    }\n",
       "\n",
       "    .dataframe tbody tr th {\n",
       "        vertical-align: top;\n",
       "    }\n",
       "\n",
       "    .dataframe thead th {\n",
       "        text-align: right;\n",
       "    }\n",
       "</style>\n",
       "<table border=\"1\" class=\"dataframe\">\n",
       "  <thead>\n",
       "    <tr style=\"text-align: right;\">\n",
       "      <th></th>\n",
       "      <th>Autores</th>\n",
       "      <th>Livros</th>\n",
       "      <th>Preço</th>\n",
       "    </tr>\n",
       "  </thead>\n",
       "  <tbody>\n",
       "    <tr>\n",
       "      <th>0</th>\n",
       "      <td>alt_1</td>\n",
       "      <td>duna_1</td>\n",
       "      <td>25</td>\n",
       "    </tr>\n",
       "    <tr>\n",
       "      <th>1</th>\n",
       "      <td>alt_2</td>\n",
       "      <td>duna_2</td>\n",
       "      <td>40</td>\n",
       "    </tr>\n",
       "    <tr>\n",
       "      <th>2</th>\n",
       "      <td>alt_3</td>\n",
       "      <td>duna_3</td>\n",
       "      <td>100</td>\n",
       "    </tr>\n",
       "    <tr>\n",
       "      <th>3</th>\n",
       "      <td>alt_4</td>\n",
       "      <td>duna_4</td>\n",
       "      <td>200</td>\n",
       "    </tr>\n",
       "  </tbody>\n",
       "</table>\n",
       "</div>"
      ],
      "text/plain": [
       "  Autores  Livros  Preço\n",
       "0   alt_1  duna_1     25\n",
       "1   alt_2  duna_2     40\n",
       "2   alt_3  duna_3    100\n",
       "3   alt_4  duna_4    200"
      ]
     },
     "execution_count": 41,
     "metadata": {},
     "output_type": "execute_result"
    }
   ],
   "source": [
    "#Adicionando um autor, livro e preço\n",
    "\n",
    "dicionario = {\"Autores\": [\"alt_1\", \"alt_2\", \"alt_3\", \"alt_4\"],\n",
    "              \"Livros\": [\"duna_1\", \"duna_2\", \"duna_3\", \"duna_4\"],\n",
    "              \"Preço\": [25,40,100,200]\n",
    "             }\n",
    "df = pd.DataFrame(dicionario)\n",
    "df.describe()\n",
    "df"
   ]
  },
  {
   "cell_type": "code",
   "execution_count": 47,
   "id": "82c6a5bd-8b98-41be-9043-6dee83286ac6",
   "metadata": {},
   "outputs": [
    {
     "data": {
      "text/plain": [
       "0    alt_1\n",
       "1    alt_2\n",
       "2    alt_3\n",
       "3    alt_4\n",
       "Name: Autores, dtype: object"
      ]
     },
     "execution_count": 47,
     "metadata": {},
     "output_type": "execute_result"
    }
   ],
   "source": [
    "df[\"Autores\"]"
   ]
  },
  {
   "cell_type": "code",
   "execution_count": 48,
   "id": "58ef89d1-06c1-4ddc-bc3f-b8e3769d10fe",
   "metadata": {},
   "outputs": [
    {
     "data": {
      "text/plain": [
       "'alt_4'"
      ]
     },
     "execution_count": 48,
     "metadata": {},
     "output_type": "execute_result"
    }
   ],
   "source": [
    "df[\"Autores\"][3]"
   ]
  },
  {
   "cell_type": "code",
   "execution_count": 52,
   "id": "cf0d51be-566e-4995-8123-a431b7d52f9b",
   "metadata": {},
   "outputs": [
    {
     "ename": "AttributeError",
     "evalue": "'DataFrame' object has no attribute 'append'",
     "output_type": "error",
     "traceback": [
      "\u001b[1;31m---------------------------------------------------------------------------\u001b[0m",
      "\u001b[1;31mAttributeError\u001b[0m                            Traceback (most recent call last)",
      "\u001b[1;32m~\\AppData\\Local\\Temp\\ipykernel_15504\\3633440316.py\u001b[0m in \u001b[0;36m?\u001b[1;34m()\u001b[0m\n\u001b[1;32m----> 1\u001b[1;33m \u001b[0mdf\u001b[0m \u001b[1;33m=\u001b[0m \u001b[0mdf\u001b[0m\u001b[1;33m.\u001b[0m\u001b[0mappend\u001b[0m\u001b[1;33m(\u001b[0m\u001b[1;33m{\u001b[0m\u001b[1;34m\"Autores\"\u001b[0m\u001b[1;33m:\u001b[0m \u001b[0malt_1\u001b[0m\u001b[1;33m,\u001b[0m \u001b[1;34m\"Livros\"\u001b[0m\u001b[1;33m:\u001b[0m \u001b[0mduna_5\u001b[0m\u001b[1;33m,\u001b[0m \u001b[1;34m\"Preço\"\u001b[0m\u001b[1;33m:\u001b[0m \u001b[1;36m95\u001b[0m\u001b[1;33m}\u001b[0m\u001b[1;33m,\u001b[0m \u001b[0mignore_index\u001b[0m \u001b[1;33m=\u001b[0m \u001b[1;32mTrue\u001b[0m\u001b[1;33m)\u001b[0m\u001b[1;33m\u001b[0m\u001b[1;33m\u001b[0m\u001b[0m\n\u001b[0m",
      "\u001b[1;32mc:\\users\\profe\\appdata\\local\\programs\\python\\python38\\lib\\site-packages\\pandas\\core\\generic.py\u001b[0m in \u001b[0;36m?\u001b[1;34m(self, name)\u001b[0m\n\u001b[0;32m   5985\u001b[0m             \u001b[1;32mand\u001b[0m \u001b[0mname\u001b[0m \u001b[1;32mnot\u001b[0m \u001b[1;32min\u001b[0m \u001b[0mself\u001b[0m\u001b[1;33m.\u001b[0m\u001b[0m_accessors\u001b[0m\u001b[1;33m\u001b[0m\u001b[1;33m\u001b[0m\u001b[0m\n\u001b[0;32m   5986\u001b[0m             \u001b[1;32mand\u001b[0m \u001b[0mself\u001b[0m\u001b[1;33m.\u001b[0m\u001b[0m_info_axis\u001b[0m\u001b[1;33m.\u001b[0m\u001b[0m_can_hold_identifiers_and_holds_name\u001b[0m\u001b[1;33m(\u001b[0m\u001b[0mname\u001b[0m\u001b[1;33m)\u001b[0m\u001b[1;33m\u001b[0m\u001b[1;33m\u001b[0m\u001b[0m\n\u001b[0;32m   5987\u001b[0m         ):\n\u001b[0;32m   5988\u001b[0m             \u001b[1;32mreturn\u001b[0m \u001b[0mself\u001b[0m\u001b[1;33m[\u001b[0m\u001b[0mname\u001b[0m\u001b[1;33m]\u001b[0m\u001b[1;33m\u001b[0m\u001b[1;33m\u001b[0m\u001b[0m\n\u001b[1;32m-> 5989\u001b[1;33m         \u001b[1;32mreturn\u001b[0m \u001b[0mobject\u001b[0m\u001b[1;33m.\u001b[0m\u001b[0m__getattribute__\u001b[0m\u001b[1;33m(\u001b[0m\u001b[0mself\u001b[0m\u001b[1;33m,\u001b[0m \u001b[0mname\u001b[0m\u001b[1;33m)\u001b[0m\u001b[1;33m\u001b[0m\u001b[1;33m\u001b[0m\u001b[0m\n\u001b[0m",
      "\u001b[1;31mAttributeError\u001b[0m: 'DataFrame' object has no attribute 'append'"
     ]
    }
   ],
   "source": [
    "\n",
    "df = df.append({\"Autores\": alt_1, \"Livros\": duna_5, \"Preço\": 95}, ignore_index = True)"
   ]
  },
  {
   "cell_type": "code",
   "execution_count": null,
   "id": "dbcffda3-c383-432f-bd12-e4a23ad852a4",
   "metadata": {},
   "outputs": [],
   "source": []
  }
 ],
 "metadata": {
  "kernelspec": {
   "display_name": "Python 3 (ipykernel)",
   "language": "python",
   "name": "python3"
  },
  "language_info": {
   "codemirror_mode": {
    "name": "ipython",
    "version": 3
   },
   "file_extension": ".py",
   "mimetype": "text/x-python",
   "name": "python",
   "nbconvert_exporter": "python",
   "pygments_lexer": "ipython3",
   "version": "3.8.3"
  }
 },
 "nbformat": 4,
 "nbformat_minor": 5
}
