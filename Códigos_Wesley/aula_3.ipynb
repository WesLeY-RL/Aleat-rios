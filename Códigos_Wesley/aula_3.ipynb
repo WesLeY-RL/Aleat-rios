{
 "cells": [
  {
   "cell_type": "code",
   "execution_count": 2,
   "id": "a7afb0a8-56f4-4b12-9191-7fe7ba39fb22",
   "metadata": {},
   "outputs": [],
   "source": [
    "import numpy as np"
   ]
  },
  {
   "cell_type": "code",
   "execution_count": 3,
   "id": "2582f2e8-2c7c-4cd9-918e-9991fabf9040",
   "metadata": {},
   "outputs": [
    {
     "name": "stdin",
     "output_type": "stream",
     "text": [
      "Turma:  9 - b\n",
      "Quantidade de alunos:  5\n",
      "digite a nota 8\n",
      "digite a nota 9\n",
      "digite a nota 10\n",
      "digite a nota 5\n",
      "digite a nota 6\n"
     ]
    },
    {
     "name": "stdout",
     "output_type": "stream",
     "text": [
      "Turma:  9 - b\n",
      "Quantidade de Alunos:  4\n",
      "Nota Máxima:  10.0\n",
      "Nota Mínima:  5.0\n",
      "Desvio padrão:  1.8547236990991407\n",
      "Média da Turma:  7.6\n"
     ]
    }
   ],
   "source": [
    "# Notas dos Alunos\n",
    "Turma = input(str(\"Turma: \"))\n",
    "i = int(input(\"Quantidade de alunos: \"))\n",
    "notas = []\n",
    "for i in range(0,i):\n",
    "    n = float(input(\"digite a nota\"))\n",
    "    notas.append(n)\n",
    "                    \n",
    "notas_array = np.array(notas)\n",
    "print(\"Turma: \", Turma)\n",
    "print(\"Quantidade de Alunos: \",  i)\n",
    "print(\"Nota Máxima: \", notas_array.max())\n",
    "print(\"Nota Mínima: \", notas_array.min())\n",
    "print(\"Desvio padrão: \", notas_array.std())\n",
    "print(\"Média da Turma: \", notas_array.mean())"
   ]
  },
  {
   "cell_type": "code",
   "execution_count": 4,
   "id": "a9d5cd72-f93d-4310-b119-f77804020252",
   "metadata": {
    "scrolled": true
   },
   "outputs": [
    {
     "name": "stdout",
     "output_type": "stream",
     "text": [
      "8.0 ---- Aprovado\n",
      "9.0 ---- Aprovado\n",
      "10.0 ---- Aprovado\n",
      "5.0 ---- Reprovado\n",
      "6.0 ---- Reprovado\n"
     ]
    }
   ],
   "source": [
    "#Lista de aprovação - 1 \n",
    "j = 0\n",
    "lista_aprov = []\n",
    "for j in range(j, len(notas)):\n",
    "    if notas[j] >= 7 :\n",
    "        lista_aprov.append(\"Aprovado\")\n",
    "    else: \n",
    "        lista_aprov.append(\"Reprovado\")\n",
    "    j = j + 1 \n",
    "k = 0\n",
    "for k in range(k,len(notas)):\n",
    "    print(notas[k],\"----\",  lista_aprov[k])\n",
    "    k = k +1\n"
   ]
  },
  {
   "cell_type": "code",
   "execution_count": 19,
   "id": "7e616200-934d-445b-bd2d-d1d31e5584f6",
   "metadata": {},
   "outputs": [
    {
     "name": "stdout",
     "output_type": "stream",
     "text": [
      "[ 8.  9. 10.  5.  6.]\n",
      "[True, True, True, False, False]\n",
      "['Aprovado', 'Aprovado', 'Aprovado', 'Reprovado', 'Reprovado']\n"
     ]
    }
   ],
   "source": [
    "#Lista de aprovação -- 2\n",
    "aprovados = notas_array >= 7 \n",
    "aprovados = list(aprovados)\n",
    "print(notas_array)\n",
    "print(aprovados)\n",
    "i = 0\n",
    "for i in range(i, len(aprovados)):\n",
    "    if aprovados[i] == True:\n",
    "        aprovados[i] = \"Aprovado\"\n",
    "    else: \n",
    "        aprovados[i] = \"Reprovado\"\n",
    "    i = i+1\n",
    "print(aprovados)"
   ]
  }
 ],
 "metadata": {
  "kernelspec": {
   "display_name": "Python 3 (ipykernel)",
   "language": "python",
   "name": "python3"
  },
  "language_info": {
   "codemirror_mode": {
    "name": "ipython",
    "version": 3
   },
   "file_extension": ".py",
   "mimetype": "text/x-python",
   "name": "python",
   "nbconvert_exporter": "python",
   "pygments_lexer": "ipython3",
   "version": "3.8.3"
  }
 },
 "nbformat": 4,
 "nbformat_minor": 5
}
