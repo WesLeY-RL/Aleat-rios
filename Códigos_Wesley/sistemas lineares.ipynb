{
 "cells": [
  {
   "cell_type": "code",
   "execution_count": 1,
   "id": "c9aab116-813b-4682-a784-0a97757c1d50",
   "metadata": {},
   "outputs": [],
   "source": [
    "import numpy as np"
   ]
  },
  {
   "cell_type": "code",
   "execution_count": 11,
   "id": "b4c202a2-dc03-4ff0-b68d-8e30b6bda50a",
   "metadata": {},
   "outputs": [],
   "source": [
    "A = np.array([[1, 2, 3], [5, 3, 6], [7, 4, 3]])\n",
    "B = np.array([1 ,-2 , 9])"
   ]
  },
  {
   "cell_type": "code",
   "execution_count": 12,
   "id": "8c0e40b5-e5cc-40a9-895d-10708f351701",
   "metadata": {},
   "outputs": [
    {
     "data": {
      "text/plain": [
       "array([[1, 2, 3],\n",
       "       [5, 3, 6],\n",
       "       [7, 4, 3]])"
      ]
     },
     "execution_count": 12,
     "metadata": {},
     "output_type": "execute_result"
    }
   ],
   "source": [
    "A"
   ]
  },
  {
   "cell_type": "code",
   "execution_count": 13,
   "id": "94614ef7-997e-44c6-a739-a094cfadd5d4",
   "metadata": {},
   "outputs": [
    {
     "data": {
      "text/plain": [
       "array([ 1, -2,  9])"
      ]
     },
     "execution_count": 13,
     "metadata": {},
     "output_type": "execute_result"
    }
   ],
   "source": [
    "B"
   ]
  },
  {
   "cell_type": "code",
   "execution_count": 15,
   "id": "4b72f5c2-78fc-435a-befb-4a8fa2a35ac6",
   "metadata": {},
   "outputs": [
    {
     "data": {
      "text/plain": [
       "array([[-0.41666667,  0.16666667,  0.08333333],\n",
       "       [ 0.75      , -0.5       ,  0.25      ],\n",
       "       [-0.02777778,  0.27777778, -0.19444444]])"
      ]
     },
     "execution_count": 15,
     "metadata": {},
     "output_type": "execute_result"
    }
   ],
   "source": [
    "# X = inversa de  A  *  B\n",
    "\n",
    "inv_A = np.linalg.inv(A)\n",
    "inv_A"
   ]
  },
  {
   "cell_type": "code",
   "execution_count": 20,
   "id": "2126ec2f-d114-4611-82e3-57ecdbb027f6",
   "metadata": {},
   "outputs": [
    {
     "data": {
      "text/plain": [
       "array([ 0.        ,  4.        , -2.33333333])"
      ]
     },
     "execution_count": 20,
     "metadata": {},
     "output_type": "execute_result"
    }
   ],
   "source": [
    "# Resolvendo normal \n",
    "\n",
    "x = np.dot(inv_A, B)\n",
    "\n",
    "\n",
    "# resolvendo por solve\n",
    "\n",
    "matriz_solve = np.linalg.solve(A,B)\n",
    "matriz_solve"
   ]
  },
  {
   "cell_type": "code",
   "execution_count": 16,
   "id": "772c1907-1d4e-4820-be70-64198e8d263a",
   "metadata": {},
   "outputs": [
    {
     "data": {
      "text/plain": [
       "array([[ 1.00000000e+00, -1.11022302e-16,  0.00000000e+00],\n",
       "       [-2.42861287e-16,  1.00000000e+00,  0.00000000e+00],\n",
       "       [-6.59194921e-17, -1.11022302e-16,  1.00000000e+00]])"
      ]
     },
     "execution_count": 16,
     "metadata": {},
     "output_type": "execute_result"
    }
   ],
   "source": [
    "# provando que é inversa\n",
    "matriz_I = np.dot(A, inv_A)\n",
    "matriz_I"
   ]
  },
  {
   "cell_type": "code",
   "execution_count": null,
   "id": "df2df776-8fa3-466a-9622-308a1da8ab74",
   "metadata": {},
   "outputs": [],
   "source": []
  }
 ],
 "metadata": {
  "kernelspec": {
   "display_name": "Python 3 (ipykernel)",
   "language": "python",
   "name": "python3"
  },
  "language_info": {
   "codemirror_mode": {
    "name": "ipython",
    "version": 3
   },
   "file_extension": ".py",
   "mimetype": "text/x-python",
   "name": "python",
   "nbconvert_exporter": "python",
   "pygments_lexer": "ipython3",
   "version": "3.8.3"
  }
 },
 "nbformat": 4,
 "nbformat_minor": 5
}
